{
 "cells": [
  {
   "cell_type": "markdown",
   "metadata": {},
   "source": [
    "# ELE 435/535 Lab 7: Support Vector Machines"
   ]
  },
  {
   "cell_type": "code",
   "execution_count": 1,
   "metadata": {},
   "outputs": [],
   "source": [
    "import numpy as np\n",
    "import matplotlib.pyplot as plt\n",
    "#import scipy.io as io\n",
    "\n",
    "%matplotlib inline"
   ]
  },
  {
   "cell_type": "code",
   "execution_count": 2,
   "metadata": {},
   "outputs": [],
   "source": [
    "# The following code is provided for use in this HW\n",
    "# It generates nx labelled examples from each of two bi-variate Gaussian densities. \n",
    "#----------------------------------------------------------------------------------\n",
    "def multinormaldata(nx, mu1, cov1, mu2, cov2):\n",
    "    D = np.zeros((2*nx,2), float)\n",
    "    D[0:nx,:] = np.random.multivariate_normal(mu1, cov1, nx)\n",
    "    D[nx:2*nx,:] = np.random.multivariate_normal(mu2, cov2, nx)\n",
    "    y = np.ones(2*nx, int)\n",
    "    y[nx:] = -np.ones(nx)\n",
    "    return D, y"
   ]
  },
  {
   "cell_type": "markdown",
   "metadata": {},
   "source": [
    "## 1. Linear Support Vector Machine"
   ]
  },
  {
   "cell_type": "markdown",
   "metadata": {},
   "source": [
    "**1.1) Generate a total of 100 samples from two 2D Gaussian densities.**  \n",
    "a) Let $\\mu_1 = (1,1)$ and $\\mu_2 = (-1, -1)$ and $\\Sigma_1 = \\Sigma_2 = I_2$.  \n",
    "b) Store the samples in a data matrix $X$ and labels in a vector $y$.    \n",
    "c) Plot the labelled points in the 2D plane. Use color coding and marker shape to distinguish the two labels."
   ]
  },
  {
   "cell_type": "code",
   "execution_count": 3,
   "metadata": {},
   "outputs": [
    {
     "data": {
      "image/png": "[encoded data removed]",
      "text/plain": [
       "<Figure size 360x360 with 1 Axes>"
      ]
     },
     "metadata": {
      "needs_background": "light"
     },
     "output_type": "display_data"
    }
   ],
   "source": [
    "# Generate a binary class dataset\n",
    "# This code is given to you\n",
    "\n",
    "np.random.seed(220606)\n",
    "\n",
    "nx  = 50\n",
    "mu1 = np.array([1.,1.])\n",
    "cov1 = np.eye(2)\n",
    "mu2 = -mu1\n",
    "cov2 = np.eye(2)\n",
    "\n",
    "X, Y = multinormaldata(nx, mu1, cov1, mu2, cov2)\n",
    "\n",
    "plt.figure(figsize=(5,5))\n",
    "plt.plot(X[:nx,0],X[:nx,1], '^r', markersize=6, linestyle='none', label='class +1')\n",
    "plt.plot(X[nx:,0],X[nx:,1], 'ob', markersize=5, linestyle='none', label='class -1')\n",
    "plt.ylabel('$x_2$', fontsize=12)\n",
    "plt.xlabel('$x_1$', fontsize=12)\n",
    "plt.title('Labelled Examples in 2-D',fontsize=14)\n",
    "plt.legend(loc='upper left')\n",
    "plt.axis([-6, 6, -6, 6])\n",
    "plt.axis('equal')\n",
    "plt.grid(True)\n",
    "plt.show()"
   ]
  },
  {
   "cell_type": "markdown",
   "metadata": {},
   "source": [
    "**1.2) Train a linear support vector machine on the generated data using $C=1$.**  \n",
    "a) Plot the separating hyperplane (a line) that separates the two classes (use a solid line).  \n",
    "b) Plot the two hyperlanes $w^\\top x +b = \\pm 1$ (use dashed lines).  \n",
    "c) Mark the support vectors using a circle around each one.\n",
    "\n",
    "**Note:** Use scikit-learn SVC. When you use SVC, make sure you specify a linear kernel by SVC(kernel='linear'...)."
   ]
  },
  {
   "cell_type": "code",
   "execution_count": null,
   "metadata": {},
   "outputs": [],
   "source": [
    "from sklearn import svm\n",
    "#-------------------------\n",
    "# This code is given to you\n",
    "penalty = 1\n",
    "svm_classifier = svm.SVC(kernel='linear',C=penalty)\n",
    "svm_classifier.fit(X,Y)\n",
    "w = svm_classifier.coef_[0]\n",
    "b = svm_classifier.intercept_[0]\n",
    "support_vector = svm_classifier.support_vectors_\n",
    "#-------------------------\n",
    "\n",
    "# Your Code Here"
   ]
  },
  {
   "cell_type": "markdown",
   "metadata": {},
   "source": [
    "**1.3) Repeat 1.2) using a set of values of $C$ ($10^{-3}$ ~$10^2$).**  \n",
    "a) Do the same plot as 1.22) for each value of log(C), but leave out the $\\pm 1$ hyperplanes (use subplot).  \n",
    "b) On a separate plot, plot $\\|w\\|^2$ versus $log(C)$ as $log(C)$ varies over the above interval.  \n",
    "c) Similarly, plot the number of support vectors vs. $log(C)$.   \n",
    "d) How does $\\|w\\|^2$ change as the value of $C$ increases? Why does it change in that way?\n",
    "e) How does the number of support vectors change as $C$ increases? Why does it change in that way? \n"
   ]
  },
  {
   "cell_type": "markdown",
   "metadata": {},
   "source": [
    "ANS:"
   ]
  },
  {
   "cell_type": "code",
   "execution_count": null,
   "metadata": {},
   "outputs": [],
   "source": [
    "# The plt.subplot command may be useful\n",
    "\n",
    "# Your Code Here\n"
   ]
  },
  {
   "cell_type": "markdown",
   "metadata": {},
   "source": [
    "## 2. SVM with Linear and Quadratic Kernels"
   ]
  },
  {
   "cell_type": "markdown",
   "metadata": {},
   "source": [
    "**2.1) Generate Data**  \n",
    "(a) Generate data as specified below.  \n",
    "(b) Plot the data, use a distinct color and marker shape for each class.  \n",
    "(c) Estimate the expected classification accuracy of linear classifier (give your reasoning) "
   ]
  },
  {
   "cell_type": "markdown",
   "metadata": {},
   "source": [
    "ANS:"
   ]
  },
  {
   "cell_type": "code",
   "execution_count": null,
   "metadata": {},
   "outputs": [],
   "source": [
    "# Generate Training, Validation, and Testing Data\n",
    "np.random.seed(31415926)\n",
    "# generate data from two classes:\n",
    "# first class mean1 = (0,0), Cov1 ~ sigma1 =1, sigma2=1, and correlation rho=0.8 \n",
    "# second class mean2 = (0,0), Cov2 ~ sigma1 =1, sigma2=1, and correlation rho=-0.8\n",
    "\n",
    "# generate 200 examples per class of training data and labels\n",
    "# generate 200 examples per class of validation data and labels\n",
    "# generate 3000 examples per class of testing data and labels\n",
    "#----------------------------------------------------------------------------------\n",
    "\n",
    "# Specify first Gaussian\n",
    "mu1 = [0.0, 0.0]\n",
    "sig11 = 1.0\n",
    "sig12 = 1.0\n",
    "rho1 = 0.8\n",
    "cov1 = np.array([[sig11*sig11, sig11*sig12*rho1], [sig11*sig12*rho1, sig12*sig12]])\n",
    "\n",
    "# Specify second Gaussian\n",
    "mu2 = [0.0, 0.0]\n",
    "sig21 = 1.0\n",
    "sig22 = 1.0\n",
    "rho2 = -0.8\n",
    "cov2 = np.array([[sig21*sig21, sig21*sig22*rho2], [sig21*sig22*rho2, sig22*sig22]])\n",
    "\n",
    "# Generate training data\n",
    "\n",
    "\n",
    "# Generate validation data\n",
    "\n",
    "\n",
    "# Generate test examples\n",
    "\n",
    "\n",
    "\n",
    "# Plot the training data\n"
   ]
  },
  {
   "cell_type": "markdown",
   "metadata": {},
   "source": [
    "**2.2) Train a Linear SVM classifier**\n",
    "\n",
    "(a) Train over values of $log(C)$ from -3 to 3 in steps of 1.  \n",
    "(b) Plot the resulting training and validation accuracies.  \n",
    "(c) Use the plot from part (b) to select a value of $C$. Justify your choice.  "
   ]
  },
  {
   "cell_type": "markdown",
   "metadata": {},
   "source": [
    "ANS:"
   ]
  },
  {
   "cell_type": "code",
   "execution_count": null,
   "metadata": {},
   "outputs": [],
   "source": [
    "# Train a linear SVM Classifier\n"
   ]
  },
  {
   "cell_type": "markdown",
   "metadata": {},
   "source": [
    "**2.3) Use the selected value of $C$ to train a Linear SVM**   \n",
    "(a) Use all of the training and validation data for training.  \n",
    "(b) Plot the data, the SVM hyperplane, and the +1 and -1 hyperplanes. Circle the support vectors.   \n",
    "(c) What is the classification accuracy?  "
   ]
  },
  {
   "cell_type": "code",
   "execution_count": null,
   "metadata": {},
   "outputs": [],
   "source": []
  },
  {
   "cell_type": "markdown",
   "metadata": {},
   "source": [
    "**2.4) Quadratic kernel SVM**  \n",
    "(a) Repeat part 2.2), except this time use a quadratic kernel in the SVM. See polynomial kernel option.  \n",
    "(b) Use the validation curve to select a value of $C$. Record and justify your choice below."
   ]
  },
  {
   "cell_type": "markdown",
   "metadata": {},
   "source": [
    "ANS:"
   ]
  },
  {
   "cell_type": "code",
   "execution_count": null,
   "metadata": {},
   "outputs": [],
   "source": [
    "# Train a Quadratic Kernel SVM Classifier\n"
   ]
  },
  {
   "cell_type": "markdown",
   "metadata": {},
   "source": [
    "**2.5) Using the selected value of C retrain on all Training + Validation Data**  \n",
    "(a) What is the final training and testing accuracy?  \n",
    "(b) How does this accuracy compare to that of the Linear SVM?"
   ]
  },
  {
   "cell_type": "code",
   "execution_count": null,
   "metadata": {},
   "outputs": [],
   "source": [
    "# Your Code Here"
   ]
  },
  {
   "cell_type": "code",
   "execution_count": null,
   "metadata": {},
   "outputs": [],
   "source": []
  }
 ],
 "metadata": {
  "anaconda-cloud": {},
  "kernelspec": {
   "display_name": "Python 3 (ipykernel)",
   "language": "python",
   "name": "python3"
  },
  "language_info": {
   "codemirror_mode": {
    "name": "ipython",
    "version": 3
   },
   "file_extension": ".py",
   "mimetype": "text/x-python",
   "name": "python",
   "nbconvert_exporter": "python",
   "pygments_lexer": "ipython3",
   "version": "3.9.12"
  }
 },
 "nbformat": 4,
 "nbformat_minor": 1
}
