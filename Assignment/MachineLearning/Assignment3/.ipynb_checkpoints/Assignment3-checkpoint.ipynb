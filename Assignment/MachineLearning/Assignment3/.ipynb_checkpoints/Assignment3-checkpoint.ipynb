{
 "cells": [
  {
   "cell_type": "markdown",
   "metadata": {},
   "source": [
    "# ELE 435/535 Computational HW3: Solution"
   ]
  },
  {
   "cell_type": "code",
   "execution_count": 188,
   "metadata": {},
   "outputs": [],
   "source": [
    "import numpy as np\n",
    "import matplotlib.pyplot as plt\n",
    "\n",
    "%matplotlib inline"
   ]
  },
  {
   "cell_type": "markdown",
   "metadata": {},
   "source": [
    "##  Least Squares and Ridge Regression"
   ]
  },
  {
   "cell_type": "markdown",
   "metadata": {},
   "source": [
    "### (1) Housing Dataset:"
   ]
  },
  {
   "cell_type": "markdown",
   "metadata": {},
   "source": [
    "We will be working with a dataset that records house prices in the suburbs of Boston. The data contains 14 columns, the first 13 columns correspond to various housing features, such as \"CRIM\" (crime rate per capita), \"RM\" (average number of rooms), \"TAX\" (tax rate), etc. A more comprehensive description can be found at https://www.kaggle.com/c/boston-housing. The last column corresponds to the median value of owner-occupied homes in \\$1000's. "
   ]
  },
  {
   "cell_type": "markdown",
   "metadata": {},
   "source": [
    "**1-a) Load the housing dataset**    \n",
    "Form a matrix X with each column a feature, and a vector y of target values."
   ]
  },
  {
   "cell_type": "code",
   "execution_count": 189,
   "metadata": {},
   "outputs": [],
   "source": [
    "housing_data = np.loadtxt('housing.data')\n",
    "X = np.matrix(housing_data[:,0:13])\n",
    "y = np.matrix(housing_data[:,13]).T"
   ]
  },
  {
   "cell_type": "markdown",
   "metadata": {},
   "source": [
    "**1-b) Examine the data**    \n",
    "* Print the dimensions of X and the dimensions of y.\n",
    "* Determine and print the number of features and the number of sample points.\n",
    "* Compute and print the sample mean of the house features\n",
    "* Compute and print the mean target value (mean house price)."
   ]
  },
  {
   "cell_type": "code",
   "execution_count": 190,
   "metadata": {},
   "outputs": [
    {
     "name": "stdout",
     "output_type": "stream",
     "text": [
      "Dimensions of X: (506, 13).\n",
      "Dimensions of Y: (506, 1).\n",
      "Number of features: 13.\n",
      "Number of sample points: 506.\n",
      "Mean house features: [[3.61352356e+00 1.13636364e+01 1.11367787e+01 6.91699605e-02\n",
      "  5.54695059e-01 6.28463439e+00 6.85749012e+01 3.79504269e+00\n",
      "  9.54940711e+00 4.08237154e+02 1.84555336e+01 3.56674032e+02\n",
      "  1.26530632e+01]].\n",
      "Mean target value: 22.532806324110677.\n"
     ]
    }
   ],
   "source": [
    "# Your Code\n",
    "\n",
    "print(f\"Dimensions of X: {X.shape}.\")\n",
    "print(f\"Dimensions of Y: {y.shape}.\")\n",
    "\n",
    "number_of_features = X.shape[1]\n",
    "print(f\"Number of features: {number_of_features}.\")\n",
    "\n",
    "number_of_sample_points = X.shape[0]\n",
    "print(f\"Number of sample points: {number_of_sample_points}.\")\n",
    "\n",
    "mean_house_features = X.mean(axis=0)\n",
    "print(f\"Mean house features: {mean_house_features}.\")\n",
    "\n",
    "mean_target_value = y.mean()\n",
    "print(f\"Mean target value: {mean_target_value}.\")"
   ]
  },
  {
   "cell_type": "markdown",
   "metadata": {},
   "source": [
    "**1-c) Form a training set and a testing set**    \n",
    "* Select the first 400 samples to be the training set\n",
    "* The remaining samples (106) form the testing set."
   ]
  },
  {
   "cell_type": "code",
   "execution_count": 191,
   "metadata": {},
   "outputs": [],
   "source": [
    "# TRAINING AND TESTING DATA\n",
    "\n",
    "np.random.seed(5787843)\n",
    "\n",
    "training_size = 400\n",
    "testing_size = number_of_sample_points - number_of_sample_points\n",
    "training_idx = np.random.choice(number_of_sample_points, training_size, replace=False)\n",
    "testing_idx = np.setdiff1d(np.arange(number_of_sample_points), training_idx)\n",
    "\n",
    "X_train = X[training_idx, :]\n",
    "y_train = y[training_idx]\n",
    "\n",
    "X_test = X[testing_idx, :]\n",
    "y_test = y[testing_idx]"
   ]
  },
  {
   "cell_type": "markdown",
   "metadata": {},
   "source": [
    "**2-a) Write a function solve_ls( )**\n",
    "* This takes X, y as arguments and returns the solution of: $(X^TX) w = X^T y$.\n",
    "* Note: `X @ Y` performs the matrix multiplcation of matrices X and Y\n",
    "* np.linalg.solve( ) may be useful\n",
    "* Do not directly compute the inverse of a matrix."
   ]
  },
  {
   "cell_type": "code",
   "execution_count": 192,
   "metadata": {},
   "outputs": [],
   "source": [
    "# function solve_ls()\n",
    "\n",
    "def solve_ls(X, y):\n",
    "    return np.linalg.solve(X.T @ X, X.T @ y)"
   ]
  },
  {
   "cell_type": "markdown",
   "metadata": {},
   "source": [
    "**2-b Write a function MSE( )**    \n",
    "* This takes w, X, y as inputs and returns the mean squared error that results from predicting target values  when the true value is $y$."
   ]
  },
  {
   "cell_type": "code",
   "execution_count": 193,
   "metadata": {},
   "outputs": [],
   "source": [
    "# function MSE()\n",
    "\n",
    "def MSE(w, X, y):\n",
    "    return np.mean(np.array(X @ w - y) ** 2)"
   ]
  },
  {
   "cell_type": "markdown",
   "metadata": {},
   "source": [
    "**3-a) Linear Least Squares Regression**    \n",
    "* Find a weighting vector w1 to predict house price (in 1000's) from the training feature values. \n",
    "* Print your answer for the vector w1.\n",
    "* Compute and print the mean square prediction error on the training data and on the testing data using w1 (print using three decimal places)\n",
    "* Do the results suggest that the predictor is underfitting or overfitting the training data?\n",
    "* ANS: Underfitting."
   ]
  },
  {
   "cell_type": "code",
   "execution_count": 194,
   "metadata": {},
   "outputs": [
    {
     "name": "stdout",
     "output_type": "stream",
     "text": [
      "[[-8.51881684e-02]\n",
      " [ 5.70462924e-02]\n",
      " [-5.07184882e-03]\n",
      " [ 2.74215943e+00]\n",
      " [-5.38629140e-01]\n",
      " [ 5.51410682e+00]\n",
      " [ 6.05522475e-03]\n",
      " [-9.09726762e-01]\n",
      " [ 1.64083115e-01]\n",
      " [-8.24010341e-03]\n",
      " [-3.50971029e-01]\n",
      " [ 1.43622315e-02]\n",
      " [-4.78461717e-01]]\n",
      "MSE on training data: 25.351.\n",
      "MSE on testing data: 20.892.\n"
     ]
    }
   ],
   "source": [
    "# LINEAR LEAST SQUARES\n",
    "\n",
    "w1 = solve_ls(X_train, y_train)\n",
    "print(w1)\n",
    "mse1_train = MSE(w1, X_train, y_train)\n",
    "mse1_test = MSE(w1, X_test, y_test)\n",
    "print(f\"MSE on training data: {mse1_train:.3f}.\")\n",
    "print(f\"MSE on testing data: {mse1_test:.3f}.\")"
   ]
  },
  {
   "cell_type": "markdown",
   "metadata": {},
   "source": [
    "**3-b) Repeat part 3-a using Affine Least Squares Regression**    \n",
    "* To do this add a column of 1's to X and reform the training and testing data.\n",
    "* The command np.hstack( ) may be useful.\n",
    "* Does this method improve the fit to the training data? ANS: Yes.\n",
    "* Does it improve generalization? ANS: Yes.\n",
    "* Is this method underfitting or overfitting the data? ANS: Underfitting."
   ]
  },
  {
   "cell_type": "code",
   "execution_count": 195,
   "metadata": {},
   "outputs": [
    {
     "name": "stdout",
     "output_type": "stream",
     "text": [
      "[[-1.02188144e-01]\n",
      " [ 5.65351379e-02]\n",
      " [ 1.40565078e-02]\n",
      " [ 2.68409666e+00]\n",
      " [-1.59810648e+01]\n",
      " [ 3.13280373e+00]\n",
      " [ 1.45949078e-02]\n",
      " [-1.43645927e+00]\n",
      " [ 3.10145263e-01]\n",
      " [-1.12535094e-02]\n",
      " [-1.00436876e+00]\n",
      " [ 8.84686146e-03]\n",
      " [-5.91670743e-01]\n",
      " [ 4.01222626e+01]]\n",
      "MSE on training data: 22.607.\n",
      "MSE on testing data: 20.554.\n"
     ]
    }
   ],
   "source": [
    "# AFFINE LEAST SQUARES\n",
    "\n",
    "X_train_affine = np.hstack((X_train, np.full((X_train.shape[0], 1), 1)))\n",
    "X_test_affine = np.hstack((X_test, np.full((X_test.shape[0], 1), 1)))\n",
    "\n",
    "w2 = solve_ls(X_train_affine, y_train)\n",
    "print(w2)\n",
    "mse2_train = MSE(w2, X_train_affine, y_train)\n",
    "mse2_test = MSE(w2, X_test_affine, y_test)\n",
    "print(f\"MSE on training data: {mse2_train:.3f}.\")\n",
    "print(f\"MSE on testing data: {mse2_test:.3f}.\")"
   ]
  },
  {
   "cell_type": "markdown",
   "metadata": {},
   "source": [
    "**4-a) Z-scoring the Data**    \n",
    "* Write a function 'get_zscore_data( )' that takes a (training dataset) X as input and returns the mean feature vector X_mu and the standard deviation X_std of the features about the mean. The commands X.mean( ) and X.std( ) may be useful.\n",
    "* Write a second function 'zscore( )' that takes as input a dataset Z (with the same number of features as X) , X_mu and X_std and returns the Z-scored version of Z using X_mu and X_std. In the case of scalars the output would be (z-x_mu)/x_std.   \n",
    "* In Python you can use broadcasting to do this operation in 1 short line of code."
   ]
  },
  {
   "cell_type": "code",
   "execution_count": 196,
   "metadata": {},
   "outputs": [],
   "source": [
    "# z-Score\n",
    "\n",
    "def get_zscore_data(X):\n",
    "    return X.mean(axis=0), X.std(axis=0)\n",
    "\n",
    "def zscore(Z):\n",
    "    X_mean, X_std = get_zscore_data(Z)\n",
    "    return (Z - X_mean) / X_std"
   ]
  },
  {
   "cell_type": "markdown",
   "metadata": {},
   "source": [
    "**4-b) Fitting the Z-scored Data**        \n",
    "* Compute the mean and standard deviation of the features in the **training data**.\n",
    "* Use these to z-score the training data and the testing data.\n",
    "* Compute the mean of the training target values. Subtract this from the training target values.\n",
    "* Use linear least squares (not affine) to fit \"w3\" mapping the z-scored training data to the centered training targets.\n",
    "* The predictor on the training data is now: (X_train_zscore)w3 + y_train_mean\n",
    "* The predictor on the testing data is now: (X_testing_zscore)w3  + y_train_mean (use training data mean and std to zcore testing data)\n",
    "* In each case, compute the resulting MSE. Your results using this method should exactly match those in part 3-b. \n",
    "* We can examine the MSE when our prediction is just the overall mean house price of the training data by using w=0. Do this for the training data and testing data and print the results."
   ]
  },
  {
   "cell_type": "code",
   "execution_count": 197,
   "metadata": {
    "scrolled": true
   },
   "outputs": [
    {
     "name": "stdout",
     "output_type": "stream",
     "text": [
      "[[-0.92743781]\n",
      " [ 1.27068391]\n",
      " [ 0.09654217]\n",
      " [ 0.68483926]\n",
      " [-1.86956479]\n",
      " [ 2.21732741]\n",
      " [ 0.41188497]\n",
      " [-3.04853818]\n",
      " [ 2.71480586]\n",
      " [-1.91895201]\n",
      " [-2.15148208]\n",
      " [ 0.81627267]\n",
      " [-4.32165745]]\n",
      "MSE on training data: 22.607.\n",
      "MSE on testing data: 20.554.\n"
     ]
    }
   ],
   "source": [
    "# Z-SCORING USING THE TRAINING DATA\n",
    "\n",
    "X_train_mean, X_train_std = X_train.mean(axis=0), X_train.std(axis=0)\n",
    "X_train_zscored = (X_train - X_train_mean) / X_train_std\n",
    "X_test_zscored = (X_test - X_train_mean) / X_train_std\n",
    "y_train_mean = y_train.mean()\n",
    "y_train_centered = y_train - y_train_mean\n",
    "y_test_centered = y_test - y_train_mean\n",
    "w3 = solve_ls(X_train_zscored, y_train_centered)\n",
    "print(w3)\n",
    "mse3_train = MSE(w3, X_train_zscored, y_train_centered)\n",
    "mse3_test = MSE(w3, X_test_zscored, y_test_centered)\n",
    "print(f\"MSE on training data: {mse3_train:.3f}.\")\n",
    "print(f\"MSE on testing data: {mse3_test:.3f}.\")"
   ]
  },
  {
   "cell_type": "markdown",
   "metadata": {},
   "source": [
    "**5-a) Ridge Regression**       \n",
    "Perform the compuations in 4-b again, using ridge regression in place of least squares. Use a regularization parameter $\\lambda$. \n",
    "* Do the regression computations in a loop for $\\lambda$ in 0,10, 20,...600. \n",
    "* Plot the training MSE and testing MSE versus $\\lambda$. Label the axis, provide a title, and use a legend.\n",
    "* You should notice something special about the testing curve. Does it indicate that selecting a good value of $\\lambda$  is important? If so why?\n",
    "* But we can't use the testing data to select $\\lambda$! We need to do this using the training data."
   ]
  },
  {
   "cell_type": "code",
   "execution_count": 198,
   "metadata": {},
   "outputs": [
    {
     "data": {
      "image/png": "[encoded data removed]",
      "text/plain": [
       "<Figure size 432x288 with 1 Axes>"
      ]
     },
     "metadata": {
      "needs_background": "light"
     },
     "output_type": "display_data"
    }
   ],
   "source": [
    "# RIDGE REGRESSION ON Z-SCORED DATA\n",
    "\n",
    "def solve_ls_ridge(X, y, lambdas):\n",
    "    return np.linalg.solve(\n",
    "        np.broadcast_to(X.T @ X, (lambdas.shape[0], X.shape[1], X.shape[1])) +\n",
    "        (lambdas * np.broadcast_to(np.eye(X.shape[1]), (lambdas.shape[0], X.shape[1], X.shape[1])).T).T,\n",
    "        np.broadcast_to(X.T @ y, (lambdas.shape[0], X.shape[1], 1))\n",
    "    )\n",
    "\n",
    "def MSE_ridge(w, X, y):\n",
    "    return (np.array((X @ w).T - y) ** 2).mean(axis=0)\n",
    "\n",
    "lambdas = np.arange(0,610,10)\n",
    "w4 = solve_ls_ridge(X_train_zscored, y_train_centered, lambdas)\n",
    "mse4_train = MSE_ridge(w4, X_train_zscored, y_train_centered)\n",
    "mse4_test = MSE_ridge(w4, X_test_zscored, y_test_centered)\n",
    "plt.plot(lambdas, mse4_train, label=\"Training data\")\n",
    "plt.plot(lambdas, mse4_test, label=\"Testing data\")\n",
    "plt.xlabel(r\"$\\lambda$\")\n",
    "plt.ylabel(\"MSE\")\n",
    "plt.title(r\"MSE vs $\\lambda$\")\n",
    "plt.legend()\n",
    "plt.show()"
   ]
  },
  {
   "cell_type": "markdown",
   "metadata": {},
   "source": [
    "**5-b) Validation Data and Hyperparameter Selection**    \n",
    "To select a value for $\\lambda$ (a hyperparamter) we can partition the training set (400 examples) into a smaller training set (300 examples) and a validation set (100 examples), leaving the testing set (106 examples) alone.    \n",
    "* Execute the partition of the existing training data (before z-scoring)\n",
    "* Repeat the computations in part 4-b using the new training data. This time compute MSE performance on the training set, the validation set, and the testing set. \n",
    "* Plot the curves of training MSE, validation MSE and testing MSE versus $\\lambda.$\n",
    "* Plot the testing MSE for Least Squares and Affine Least Squares on the same plot as horizontal lines.\n",
    "* Since the validation data is training data you can use the results for validation performace to select a value for $\\lambda.$\n",
    "* What is a good choice for $\\lambda$ based on the validation MSE?\n",
    "* Using this value for $\\lambda$ what is the expected testing performance? Is this performance better that the least squares (linear and affine) results in 3-a and 3-b?"
   ]
  },
  {
   "cell_type": "code",
   "execution_count": 199,
   "metadata": {},
   "outputs": [],
   "source": [
    "partition_training_size = 300\n",
    "partition_validation_size = training_size - partition_training_size\n",
    "partition_training_idx = np.random.choice(training_size, partition_training_size, replace=False)\n",
    "partition_validation_idx = np.setdiff1d(np.arange(training_size), partition_training_idx)"
   ]
  },
  {
   "cell_type": "code",
   "execution_count": 200,
   "metadata": {},
   "outputs": [
    {
     "data": {
      "image/png": "[encoded data removed]",
      "text/plain": [
       "<Figure size 432x288 with 1 Axes>"
      ]
     },
     "metadata": {
      "needs_background": "light"
     },
     "output_type": "display_data"
    },
    {
     "name": "stdout",
     "output_type": "stream",
     "text": [
      "Lambda for minimal MSE on validation data: 130.\n"
     ]
    }
   ],
   "source": [
    "# RIDGE REGRESSION WITH VALIDATION DATA\n",
    "\n",
    "X_partition_train = X[partition_training_idx, :]\n",
    "y_partition_train = y[partition_training_idx]\n",
    "\n",
    "X_partition_valid = X[partition_validation_idx, :]\n",
    "y_partition_valid = y[partition_validation_idx]\n",
    "\n",
    "X_partition_train_mean, X_partition_train_std = X_partition_train.mean(axis=0), X_partition_train.std(axis=0)\n",
    "X_partition_train_zscored = (X_partition_train - X_partition_train_mean) / X_partition_train_std\n",
    "X_partition_valid_zscored = (X_partition_valid - X_partition_train_mean) / X_partition_train_std\n",
    "X_partition_test_zscored = (X_test - X_partition_train_mean) / X_partition_train_std\n",
    "\n",
    "y_partition_train_mean = y_partition_train.mean()\n",
    "y_partition_train_centered = y_partition_train - y_partition_train_mean\n",
    "y_partition_valid_centered = y_partition_valid - y_partition_train_mean\n",
    "y_partition_test_centered = y_test - y_partition_train_mean\n",
    "\n",
    "lambdas = np.arange(0,610,10)\n",
    "w5 = solve_ls_ridge(X_partition_train_zscored, y_partition_train_centered, lambdas)\n",
    "mse5_train = MSE_ridge(w5, X_partition_train_zscored, y_partition_train_centered)\n",
    "mse5_valid = MSE_ridge(w5, X_partition_valid_zscored, y_partition_valid_centered)\n",
    "mse5_test = MSE_ridge(w5, X_partition_test_zscored, y_test_centered)\n",
    "plt.plot(lambdas, mse5_train, label=\"Training data\")\n",
    "plt.plot(lambdas, mse5_valid, label=\"Validation data\")\n",
    "plt.plot(lambdas, mse5_test, label=\"Testing data\")\n",
    "plt.plot(lambdas, np.repeat(mse1_test, mse5_valid.shape[0]), label=\"LS\")\n",
    "plt.plot(lambdas, np.repeat(mse2_test, mse5_valid.shape[0]), label=\"Affine LS\")\n",
    "plt.xlabel(r\"$\\lambda$\")\n",
    "plt.ylabel(\"MSE\")\n",
    "plt.title(r\"MSE vs $\\lambda$\")\n",
    "plt.legend()\n",
    "plt.show()\n",
    "print(f\"Lambda for minimal MSE on validation data: {lambdas[np.argmin(mse5_valid)]}.\")"
   ]
  },
  {
   "cell_type": "code",
   "execution_count": null,
   "metadata": {},
   "outputs": [],
   "source": []
  }
 ],
 "metadata": {
  "anaconda-cloud": {},
  "kernelspec": {
   "display_name": "Python 3 (ipykernel)",
   "language": "python",
   "name": "python3"
  },
  "language_info": {
   "codemirror_mode": {
    "name": "ipython",
    "version": 3
   },
   "file_extension": ".py",
   "mimetype": "text/x-python",
   "name": "python",
   "nbconvert_exporter": "python",
   "pygments_lexer": "ipython3",
   "version": "3.9.12"
  }
 },
 "nbformat": 4,
 "nbformat_minor": 1
}
